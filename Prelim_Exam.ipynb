{
  "nbformat": 4,
  "nbformat_minor": 0,
  "metadata": {
    "colab": {
      "name": "Prelim Exam.ipynb",
      "provenance": [],
      "authorship_tag": "ABX9TyMNsguxXLrOZY5mU/E7B/su",
      "include_colab_link": true
    },
    "kernelspec": {
      "name": "python3",
      "display_name": "Python 3"
    },
    "language_info": {
      "name": "python"
    }
  },
  "cells": [
    {
      "cell_type": "markdown",
      "metadata": {
        "id": "view-in-github",
        "colab_type": "text"
      },
      "source": [
        "<a href=\"https://colab.research.google.com/github/TrishaCueno/OOP-1-1/blob/main/Prelim_Exam.ipynb\" target=\"_parent\"><img src=\"https://colab.research.google.com/assets/colab-badge.svg\" alt=\"Open In Colab\"/></a>"
      ]
    },
    {
      "cell_type": "markdown",
      "source": [
        "#Problem 2"
      ],
      "metadata": {
        "id": "cfwY2xQ78pP4"
      }
    },
    {
      "cell_type": "code",
      "execution_count": 14,
      "metadata": {
        "colab": {
          "base_uri": "https://localhost:8080/"
        },
        "id": "MJukQETw8jyI",
        "outputId": "b89ab2a0-b6d4-4790-f781-6dad92e8b004"
      },
      "outputs": [
        {
          "output_type": "stream",
          "name": "stdout",
          "text": [
            "Name: Trisha Faye Cabug Cueno\n",
            "Student No: 202101759\n",
            "Age: 18 years old\n",
            "School: Cavite State University\n",
            "Course: BS Computer Engineering\n"
          ]
        }
      ],
      "source": [
        "class Student:\n",
        "  def __init__(self, Name, Student_No, Age, School, Course):\n",
        "      self.Name = Name\n",
        "      self.Student_No = Student_No\n",
        "      self.Age = Age\n",
        "      self.School = School\n",
        "      self.Course = Course\n",
        "\n",
        "  def Info(self):\n",
        "    print(\"Name:\", self.Name)\n",
        "    print(\"Student No:\", self.Student_No)\n",
        "    print(\"Age:\", self.Age, \"years old\")\n",
        "    print(\"School:\", self.School)\n",
        "    print(\"Course:\", self.Course)\n",
        "\n",
        "myself = Student(\"Trisha Faye Cabug Cueno\", 202101759, 18, \"Cavite State University\", \"BS Computer Engineering\")\n",
        "myself.Info()"
      ]
    }
  ]
}