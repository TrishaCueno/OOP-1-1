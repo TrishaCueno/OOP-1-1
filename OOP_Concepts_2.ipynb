{
  "nbformat": 4,
  "nbformat_minor": 0,
  "metadata": {
    "colab": {
      "name": "OOP Concepts 2.ipynb",
      "provenance": [],
      "authorship_tag": "ABX9TyNWBp85UPYUmOje2EWhMx6b",
      "include_colab_link": true
    },
    "kernelspec": {
      "name": "python3",
      "display_name": "Python 3"
    },
    "language_info": {
      "name": "python"
    }
  },
  "cells": [
    {
      "cell_type": "markdown",
      "metadata": {
        "id": "view-in-github",
        "colab_type": "text"
      },
      "source": [
        "<a href=\"https://colab.research.google.com/github/TrishaCueno/OOP-1-1/blob/main/OOP_Concepts_2.ipynb\" target=\"_parent\"><img src=\"https://colab.research.google.com/assets/colab-badge.svg\" alt=\"Open In Colab\"/></a>"
      ]
    },
    {
      "cell_type": "markdown",
      "source": [
        "\n",
        "Classes with Multiple Objects"
      ],
      "metadata": {
        "id": "rJsdj_G36Jj_"
      }
    },
    {
      "cell_type": "code",
      "source": [
        "class Birds:\n",
        "  def __init__(self,birds_name):\n",
        "    self.birds_name = birds_name\n",
        "  def flying_birds(self):\n",
        "    print(f\"{self.birds_name} flies above the sky.\")                              # string function(f)\n",
        "  def non_flying_birds(self):\n",
        "    print(f\"{self.birds_name} is the national bird of Australia.\")   \n",
        "\n",
        "vulture = Birds(\"Griffon Vulture\")\n",
        "crane = Birds(\"Common Crane\")   \n",
        "emu = Birds(\"Emu\")\n",
        "\n",
        "vulture.flying_birds()\n",
        "crane.flying_birds()\n",
        "emu.non_flying_birds()"
      ],
      "metadata": {
        "colab": {
          "base_uri": "https://localhost:8080/"
        },
        "id": "dKJfDNlg6Lts",
        "outputId": "f20de444-fde9-493c-ba69-9ea62c693d5d"
      },
      "execution_count": 1,
      "outputs": [
        {
          "output_type": "stream",
          "name": "stdout",
          "text": [
            "Griffon Vulture flies above the sky.\n",
            "Common Crane flies above the sky.\n",
            "Emu is the national bird of Australia.\n"
          ]
        }
      ]
    },
    {
      "cell_type": "markdown",
      "source": [
        "Encapsulation"
      ],
      "metadata": {
        "id": "Lvbq6bis6Rt-"
      }
    },
    {
      "cell_type": "code",
      "source": [
        "class foo:\n",
        "  def __init__(self,a,b):\n",
        "    self.a = a\n",
        "    self.b = b\n",
        "\n",
        "  def add(self):\n",
        "    return self.a + self.b\n",
        "  \n",
        "object_foo = foo(3,4)\n",
        "object_foo.add()\n",
        "\n",
        "object_foo.a = 6\n",
        "object_foo.add()"
      ],
      "metadata": {
        "colab": {
          "base_uri": "https://localhost:8080/"
        },
        "id": "XG9v4P6T6Q9m",
        "outputId": "0d782152-c462-4369-b3cc-582b9c0dfa82"
      },
      "execution_count": 2,
      "outputs": [
        {
          "output_type": "execute_result",
          "data": {
            "text/plain": [
              "10"
            ]
          },
          "metadata": {},
          "execution_count": 2
        }
      ]
    },
    {
      "cell_type": "markdown",
      "source": [
        "Encapsulation (mangling with double underscore)"
      ],
      "metadata": {
        "id": "ic9fjJlg6Yr3"
      }
    },
    {
      "cell_type": "code",
      "source": [
        "class foo:\n",
        " def __init__(self, a, b):\n",
        "  self.__a = a\n",
        "  self.__b = b \n",
        "\n",
        " def add(self):\n",
        "  return self.__a + self.__b\n",
        "\n",
        "foo_object = foo(3,4)\n",
        "foo_object.add()\n",
        "\n",
        "#object_foo.a = 6 \n",
        "#object_foo.add()"
      ],
      "metadata": {
        "colab": {
          "base_uri": "https://localhost:8080/"
        },
        "id": "XocvtBWA6bcs",
        "outputId": "139439b8-fed6-4bf3-8f3c-357944b7dc6b"
      },
      "execution_count": 3,
      "outputs": [
        {
          "output_type": "execute_result",
          "data": {
            "text/plain": [
              "7"
            ]
          },
          "metadata": {},
          "execution_count": 3
        }
      ]
    },
    {
      "cell_type": "code",
      "source": [
        "# information hiding - Encapsulation (__)\n",
        "class Counter: \n",
        "  def __init__(self):\n",
        "    self.__current= 0\n",
        "  def increment(self):\n",
        "    self.__current+=1\n",
        "  def value(self):\n",
        "    return self.__current \n",
        "  def reset(self):\n",
        "    self.__current= 0\n",
        "\n",
        "number = Counter()\n",
        "number.increment()\n",
        "number.increment()\n",
        "number.increment()\n",
        "\n",
        "print(number.value())"
      ],
      "metadata": {
        "colab": {
          "base_uri": "https://localhost:8080/"
        },
        "id": "GtsaWmWW6iWq",
        "outputId": "4ee91b10-68e2-41c6-c047-adee90596fb8"
      },
      "execution_count": 4,
      "outputs": [
        {
          "output_type": "stream",
          "name": "stdout",
          "text": [
            "3\n"
          ]
        }
      ]
    },
    {
      "cell_type": "markdown",
      "source": [
        "Inheritance"
      ],
      "metadata": {
        "id": "LxpuH2o86k7f"
      }
    },
    {
      "cell_type": "code",
      "source": [
        "class Person:\n",
        "  def __init__(self,firstname,surname):\n",
        "    self.firstname = firstname\n",
        "    self.surname = surname\n",
        "\n",
        "  def fullname(self):\n",
        "    print(self.firstname,self.surname)\n",
        "\n",
        "person = Person(\"Trisha Faye\",\"Cueno\")\n",
        "person.fullname()    \n",
        "\n",
        "class Father(Person):\n",
        "  pass\n",
        "\n",
        "person2 = Father(\"Euleo\",\"Cueno\")\n",
        "person2.fullname()\n",
        "\n",
        "class Student(Person):\n",
        "  pass\n",
        "\n",
        "person3 = Student(\"Emilson\",\"Umel\")\n",
        "person3.fullname()"
      ],
      "metadata": {
        "colab": {
          "base_uri": "https://localhost:8080/"
        },
        "id": "E3wz9d9x6lsj",
        "outputId": "6cb06158-1366-4daf-fa39-7abdb7f5af6e"
      },
      "execution_count": 5,
      "outputs": [
        {
          "output_type": "stream",
          "name": "stdout",
          "text": [
            "Trisha Faye Cueno\n",
            "Euleo Cueno\n",
            "Emilson Umel\n"
          ]
        }
      ]
    },
    {
      "cell_type": "markdown",
      "source": [
        "Polymorphism"
      ],
      "metadata": {
        "id": "JjihK52E6osK"
      }
    },
    {
      "cell_type": "code",
      "source": [
        "class RegularPolygon:\n",
        "    def __init__(self,side):\n",
        "        self.side = side\n",
        "class Square(RegularPolygon):\n",
        "    def area(self):\n",
        "        return self.side * self.side\n",
        "class EquilateralTriangle(RegularPolygon):\n",
        "    def area(self):\n",
        "        return self.side * self.side * 0.433\n",
        "\n",
        "obj1 = Square(4)\n",
        "print(obj1.area())\n",
        "\n",
        "obj2 = EquilateralTriangle(3)\n",
        "print(obj2.area())"
      ],
      "metadata": {
        "colab": {
          "base_uri": "https://localhost:8080/"
        },
        "id": "VBfWtQ_o6rNV",
        "outputId": "f70126ed-1b4d-493f-b56c-edc810bbc8fa"
      },
      "execution_count": 6,
      "outputs": [
        {
          "output_type": "stream",
          "name": "stdout",
          "text": [
            "16\n",
            "3.897\n"
          ]
        }
      ]
    },
    {
      "cell_type": "markdown",
      "source": [
        "###APPLICATION 1 "
      ],
      "metadata": {
        "id": "6ouyDaMe551k"
      }
    },
    {
      "cell_type": "markdown",
      "source": [
        "\n",
        "\n",
        "1. Create a Python program that displays the name of three students (Student 1, Student 2, and Student 3) and their term grades.\n",
        "2.  Create a class name Person and attributes - std1,std2,std3,pre,mid,fin. \n",
        "3. Compute the average of each term grade using Grade() method.\n",
        "4. Information about student s grades must be hidden from others."
      ],
      "metadata": {
        "id": "_LLFRGWb52VG"
      }
    },
    {
      "cell_type": "code",
      "execution_count": 13,
      "metadata": {
        "colab": {
          "base_uri": "https://localhost:8080/"
        },
        "id": "rBHyUWT25zYa",
        "outputId": "33c49181-c0d3-4616-a07b-9317f0e05306"
      },
      "outputs": [
        {
          "output_type": "stream",
          "name": "stdout",
          "text": [
            "Student term grades: \n",
            "\n",
            "Student 1\n",
            " Prelims : 95\n",
            " Midterms : 100\n",
            " Finals : 100\n",
            "Student 2\n",
            " Prelims : 80\n",
            " Midterms : 95\n",
            " Finals : 100\n",
            "Student 3\n",
            " Prelims : 95\n",
            " Midterms : 80\n",
            " Finals : 85\n",
            "\n",
            "Average term grades:\n",
            "Student 1 average term grade is 98.33\n",
            "Student 2 average term grade is 91.67\n",
            "Student 31 average term grade is 86.67\n"
          ]
        }
      ],
      "source": [
        "class Person:\n",
        "  def __init__(self,std,prelim,mid,fin):\n",
        "    self.std = std\n",
        "    self.prelim = prelim\n",
        "    self.mid = mid\n",
        "    self.fin = fin\n",
        "\n",
        "  def term_grades(self):\n",
        "    print(f\"{self.std}\")\n",
        "    print(f\" Prelims : {self.prelim}\")\n",
        "    print(f\" Midterms : {self.mid}\")\n",
        "    print(f\" Finals : {self.fin}\")\n",
        "\n",
        "class Grades(Person):\n",
        "  pass\n",
        "print(\"Student term grades: \\n\")\n",
        "  \n",
        "std1 = Grades(\"Student 1\", 95, 100, 100)\n",
        "std1.term_grades()\n",
        "std2 = Grades(\"Student 2\", 80, 95, 100)\n",
        "std2.term_grades()\n",
        "std3 = Grades(\"Student 3\", 95, 80, 85)\n",
        "std3.term_grades()\n",
        "\n",
        "print(\"\\nAverage term grades:\")\n",
        "import statistics\n",
        "std1 = (95, 100, 100)\n",
        "average = statistics.mean(std1)\n",
        "print(\"Student 1 average term grade is \" + str(round(average, 2)))\n",
        "\n",
        "std2 = (80, 95, 100)\n",
        "average = statistics.mean(std2)\n",
        "print(\"Student 2 average term grade is \" + str(round(average, 2)))\n",
        "\n",
        "std3 = (95, 80, 85)\n",
        "average = statistics.mean(std3)\n",
        "print(\"Student 31 average term grade is \" + str(round(average, 2)))"
      ]
    }
  ]
}