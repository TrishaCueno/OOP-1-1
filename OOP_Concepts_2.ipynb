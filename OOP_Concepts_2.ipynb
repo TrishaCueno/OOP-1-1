{
  "nbformat": 4,
  "nbformat_minor": 0,
  "metadata": {
    "colab": {
      "name": "OOP_Concepts_2.ipynb",
      "provenance": [],
      "authorship_tag": "ABX9TyMLnKV1p3o36P0k+MMQ1QRA",
      "include_colab_link": true
    },
    "kernelspec": {
      "name": "python3",
      "display_name": "Python 3"
    },
    "language_info": {
      "name": "python"
    }
  },
  "cells": [
    {
      "cell_type": "markdown",
      "metadata": {
        "id": "view-in-github",
        "colab_type": "text"
      },
      "source": [
        "<a href=\"https://colab.research.google.com/github/TrishaCueno/OOP-1-1/blob/main/OOP_Concepts_2.ipynb\" target=\"_parent\"><img src=\"https://colab.research.google.com/assets/colab-badge.svg\" alt=\"Open In Colab\"/></a>"
      ]
    },
    {
      "cell_type": "markdown",
      "source": [
        "Classes with multiple objects"
      ],
      "metadata": {
        "id": "AGtlciko31QY"
      }
    },
    {
      "cell_type": "code",
      "execution_count": 2,
      "metadata": {
        "colab": {
          "base_uri": "https://localhost:8080/"
        },
        "id": "Y5v7q8R43uF_",
        "outputId": "19d693fb-3698-49fa-fb3a-1b230f1180d7"
      },
      "outputs": [
        {
          "output_type": "stream",
          "name": "stdout",
          "text": [
            "Griffon Vulture flies above the sky.\n",
            "Common Crane flies above the sky.\n",
            "Emu is the national bird of Australia.\n"
          ]
        }
      ],
      "source": [
        "class Birds:\n",
        "  def __init__(self,birds_name):\n",
        "    self.birds_name = birds_name\n",
        "  def flying_birds(self):\n",
        "    print(f\"{self.birds_name} flies above the sky.\")                              # string function(f)\n",
        "  def non_flying_birds(self):\n",
        "    print(f\"{self.birds_name} is the national bird of Australia.\")   \n",
        "\n",
        "vulture = Birds(\"Griffon Vulture\")\n",
        "crane = Birds(\"Common Crane\")   \n",
        "emu = Birds(\"Emu\")\n",
        "\n",
        "vulture.flying_birds()\n",
        "crane.flying_birds()\n",
        "emu.non_flying_birds()"
      ]
    },
    {
      "cell_type": "markdown",
      "source": [
        "Encapsulation"
      ],
      "metadata": {
        "id": "Pu7gJHMB4J2v"
      }
    },
    {
      "cell_type": "code",
      "source": [
        "class foo:\n",
        "  def __init__(self,a,b):\n",
        "    self.a = a\n",
        "    self.b = b\n",
        "\n",
        "  def add(self):\n",
        "    return self.a + self.b\n",
        "  \n",
        "object_foo = foo(3,4)\n",
        "object_foo.add()\n",
        "\n",
        "object_foo.a = 6\n",
        "object_foo.add()"
      ],
      "metadata": {
        "colab": {
          "base_uri": "https://localhost:8080/"
        },
        "id": "g6DmiJtd4Kkv",
        "outputId": "bf0c530b-7805-4f9d-93a1-888ee5ad9d67"
      },
      "execution_count": 3,
      "outputs": [
        {
          "output_type": "execute_result",
          "data": {
            "text/plain": [
              "10"
            ]
          },
          "metadata": {},
          "execution_count": 3
        }
      ]
    },
    {
      "cell_type": "markdown",
      "source": [
        "Encapsulation (mangling with double underscore)"
      ],
      "metadata": {
        "id": "RKniEeY94XA1"
      }
    },
    {
      "cell_type": "code",
      "source": [
        "class foo:\n",
        " def __init__(self, a, b):\n",
        "  self.__a = a\n",
        "  self.__b = b \n",
        "\n",
        " def add(self):\n",
        "  return self.__a + self.__b\n",
        "\n",
        "foo_object = foo(3,4)\n",
        "foo_object.add()\n",
        "\n",
        "#object_foo.a = 6 \n",
        "#object_foo.add()"
      ],
      "metadata": {
        "colab": {
          "base_uri": "https://localhost:8080/"
        },
        "id": "V8DYtv4w4SSv",
        "outputId": "856d0816-3e7c-49b6-9b5d-67f06d8436a4"
      },
      "execution_count": 4,
      "outputs": [
        {
          "output_type": "execute_result",
          "data": {
            "text/plain": [
              "7"
            ]
          },
          "metadata": {},
          "execution_count": 4
        }
      ]
    },
    {
      "cell_type": "code",
      "source": [
        "# information hiding - Encapsulation (__)\n",
        "class Counter: \n",
        "  def __init__(self):\n",
        "    self.__current= 0\n",
        "  def increment(self):\n",
        "    self.__current+=1\n",
        "  def value(self):\n",
        "    return self.__current \n",
        "  def reset(self):\n",
        "    self.__current= 0\n",
        "\n",
        "number = Counter()\n",
        "number.increment()\n",
        "number.increment()\n",
        "number.increment()\n",
        "\n",
        "print(number.value())"
      ],
      "metadata": {
        "colab": {
          "base_uri": "https://localhost:8080/"
        },
        "id": "3DInZRAA4aXJ",
        "outputId": "b1b1876b-7f51-4175-8df2-58db26d74151"
      },
      "execution_count": 5,
      "outputs": [
        {
          "output_type": "stream",
          "name": "stdout",
          "text": [
            "3\n"
          ]
        }
      ]
    },
    {
      "cell_type": "markdown",
      "source": [
        "Inheritance"
      ],
      "metadata": {
        "id": "qeC_88Ty4lFD"
      }
    },
    {
      "cell_type": "code",
      "source": [
        "class Person:\n",
        "  def __init__(self,firstname,surname):\n",
        "    self.firstname = firstname\n",
        "    self.surname = surname\n",
        "\n",
        "  def fullname(self):\n",
        "    print(self.firstname,self.surname)\n",
        "\n",
        "person = Person(\"Trisha Faye\",\"Cueno\")\n",
        "person.fullname()    \n",
        "\n",
        "class Father(Person):\n",
        "  pass\n",
        "\n",
        "person2 = Father(\"Euleo\",\"Cueno\")\n",
        "person2.fullname()\n",
        "\n",
        "class Student(Person):\n",
        "  pass\n",
        "\n",
        "person3 = Student(\"Emilson\",\"Umel\")\n",
        "person3.fullname()"
      ],
      "metadata": {
        "colab": {
          "base_uri": "https://localhost:8080/"
        },
        "id": "o7PpvVCl4mme",
        "outputId": "071a1a01-b857-408d-a29d-8fd494c459e6"
      },
      "execution_count": 6,
      "outputs": [
        {
          "output_type": "stream",
          "name": "stdout",
          "text": [
            "Trisha Faye Cueno\n",
            "Euleo Cueno\n",
            "Emilson Umel\n"
          ]
        }
      ]
    },
    {
      "cell_type": "markdown",
      "source": [
        "Polymorphism"
      ],
      "metadata": {
        "id": "4gLxZY-05Ndv"
      }
    },
    {
      "cell_type": "code",
      "source": [
        "class RegularPolygon:\n",
        "    def __init__(self,side):\n",
        "        self.side = side\n",
        "class Square(RegularPolygon):\n",
        "    def area(self):\n",
        "        return self.side * self.side\n",
        "class EquilateralTriangle(RegularPolygon):\n",
        "    def area(self):\n",
        "        return self.side * self.side * 0.433\n",
        "\n",
        "obj1 = Square(4)\n",
        "print(obj1.area())\n",
        "\n",
        "obj2 = EquilateralTriangle(3)\n",
        "print(obj2.area())"
      ],
      "metadata": {
        "colab": {
          "base_uri": "https://localhost:8080/"
        },
        "id": "DLzdVLfX5Mnl",
        "outputId": "0207ce59-463d-418b-8f5e-d1cf79d32149"
      },
      "execution_count": 7,
      "outputs": [
        {
          "output_type": "stream",
          "name": "stdout",
          "text": [
            "16\n",
            "3.897\n"
          ]
        }
      ]
    },
    {
      "cell_type": "markdown",
      "source": [
        "APPLICATION 1 (to be submitted next week)\n",
        "\n",
        "Create a Python program that displays the name of three students (Student 1, Student 2, and Student 3) and their term grades\n",
        "Create a class name Person and attributes - std1,std2,std3,pre,mid,fin\n",
        "Compute the average of each term grade using Grade() method\n",
        "Information about student s grades must be hidden from others"
      ],
      "metadata": {
        "id": "Ah3jxsVK5sR5"
      }
    }
  ]
}