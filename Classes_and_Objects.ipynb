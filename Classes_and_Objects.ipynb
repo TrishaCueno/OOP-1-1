{
  "nbformat": 4,
  "nbformat_minor": 0,
  "metadata": {
    "colab": {
      "name": "Classes and Objects.ipynb",
      "provenance": [],
      "authorship_tag": "ABX9TyPiVusHHwCwdelLDP/XTQFV",
      "include_colab_link": true
    },
    "kernelspec": {
      "name": "python3",
      "display_name": "Python 3"
    },
    "language_info": {
      "name": "python"
    }
  },
  "cells": [
    {
      "cell_type": "markdown",
      "metadata": {
        "id": "view-in-github",
        "colab_type": "text"
      },
      "source": [
        "<a href=\"https://colab.research.google.com/github/TrishaCueno/OOP-1-1/blob/main/Classes_and_Objects.ipynb\" target=\"_parent\"><img src=\"https://colab.research.google.com/assets/colab-badge.svg\" alt=\"Open In Colab\"/></a>"
      ]
    },
    {
      "cell_type": "markdown",
      "source": [
        "Application 2- Write a python program that displays the fullname of a student, student number, age, course, and school. Create a class name OOP_1_1 and create Info() method to display the information of a student with fullname, student_no, age, course, school as attributes. "
      ],
      "metadata": {
        "id": "JM5-SsTB1sLo"
      }
    },
    {
      "cell_type": "code",
      "execution_count": 7,
      "metadata": {
        "colab": {
          "base_uri": "https://localhost:8080/"
        },
        "id": "PFn9trGM0P3m",
        "outputId": "03398627-30a0-48da-9400-85268de301ac"
      },
      "outputs": [
        {
          "output_type": "stream",
          "name": "stdout",
          "text": [
            "My Name is Trisha Faye C. Cueno\n",
            "My Student Number is 202101759\n",
            "I am 18 years old\n",
            "I am currently taking BS Computer Engineering\n",
            "I am studying at Cavite State University\n"
          ]
        }
      ],
      "source": [
        "class OOP_1_1:\n",
        "  def __init__(self,fullname,student_no,age,course,school):\n",
        "    self.fullname = fullname\n",
        "    self.student_no = student_no\n",
        "    self.age = age\n",
        "    self.course = course\n",
        "    self.school = school\n",
        "\n",
        "  def Info(self):\n",
        "    #print(self.fullname, self.student_no, self.age, self.course, self.school)\n",
        "    print(\"My Name is\", self.fullname)\n",
        "    print(\"My Student Number is\", self.student_no)\n",
        "    print(\"I am\", self.age, \"years old\")\n",
        "    print(\"I am currently taking\", self.course)\n",
        "    print(\"I am studying at\", self.school)\n",
        "  \n",
        "student = OOP_1_1(\"Trisha Faye C. Cueno\",202101759,18,\"BS Computer Engineering\",\"Cavite State University\")\n",
        "student.Info()\n"
      ]
    },
    {
      "cell_type": "markdown",
      "source": [
        "Application 3- Define an Area() method of the class Circle that calculates the circle's area. Define a Perimeter() method of the class which allows you to calculate the perimeter of the circle."
      ],
      "metadata": {
        "id": "gF9eShue7H1e"
      }
    },
    {
      "cell_type": "code",
      "source": [
        "class Circle:\n",
        "  def __init__(self, π, r):\n",
        "    self.π = π\n",
        "    self.r = r\n",
        "\n",
        "  def Area(self):\n",
        "    print(\"The Area of Circle is\", self.π * self.r **2)\n",
        "  \n",
        "  def Perimeter(self):\n",
        "     print(\"The Perimeter of Circle is\", 2* self.π * self.r)\n",
        "\n",
        "Circle = Circle(3.14,28)\n",
        "Circle.Area()\n",
        "Circle.Perimeter()"
      ],
      "metadata": {
        "colab": {
          "base_uri": "https://localhost:8080/"
        },
        "id": "nwsEIMOyD03K",
        "outputId": "08be385a-25ca-496f-c3fb-04e38194a0da"
      },
      "execution_count": 22,
      "outputs": [
        {
          "output_type": "stream",
          "name": "stdout",
          "text": [
            "The Area of Circle is 2461.76\n",
            "The Perimeter of Circle is 175.84\n"
          ]
        }
      ]
    }
  ]
}