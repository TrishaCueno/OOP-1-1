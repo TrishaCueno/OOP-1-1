{
  "nbformat": 4,
  "nbformat_minor": 0,
  "metadata": {
    "colab": {
      "name": "GUI.ipynb",
      "provenance": [],
      "authorship_tag": "ABX9TyNBomVxffI5XEDRQn0LQ1hp",
      "include_colab_link": true
    },
    "kernelspec": {
      "name": "python3",
      "display_name": "Python 3"
    },
    "language_info": {
      "name": "python"
    }
  },
  "cells": [
    {
      "cell_type": "markdown",
      "metadata": {
        "id": "view-in-github",
        "colab_type": "text"
      },
      "source": [
        "<a href=\"https://colab.research.google.com/github/TrishaCueno/OOP-1-1/blob/main/GUI.ipynb\" target=\"_parent\"><img src=\"https://colab.research.google.com/assets/colab-badge.svg\" alt=\"Open In Colab\"/></a>"
      ]
    },
    {
      "cell_type": "markdown",
      "source": [
        "Students' Grade in OOP Subject"
      ],
      "metadata": {
        "id": "u98p5Y_fs37S"
      }
    },
    {
      "cell_type": "code",
      "execution_count": 3,
      "metadata": {
        "colab": {
          "base_uri": "https://localhost:8080/"
        },
        "id": "9BjiArGNsyDT",
        "outputId": "87e56360-ef55-4fdb-dc5a-54316cf014b4"
      },
      "outputs": [
        {
          "output_type": "stream",
          "name": "stdout",
          "text": [
            "Students' Grade in OOP\n",
            "Student: Trisha Faye C. Cueno\n",
            "Prelim Grade: 95\n",
            "Midterm Grade: 98\n",
            "Final Grade: 100\n",
            "Average: 97.67\n"
          ]
        }
      ],
      "source": [
        "#@title Students' Grade in OOP\n",
        "student_name = \"Trisha Faye C. Cueno\" #@param {type: \"string\"}\n",
        "prelim = 95#@param {type: \"integer\"}\n",
        "midterm = 98#@param {type: \"integer\"}\n",
        "final = 100#@param {type: \"integer\"}\n",
        "semestral_grade = ((prelim + midterm + final)/3)\n",
        "\n",
        "print(\"Students' Grade in OOP\")\n",
        "print(\"Student:\", student_name)\n",
        "print(\"Prelim Grade:\", prelim)\n",
        "print(\"Midterm Grade:\", midterm)\n",
        "print(\"Final Grade:\", final)\n",
        "print(\"Average:\", round(semestral_grade, 2))\n"
      ]
    },
    {
      "cell_type": "code",
      "source": [
        "gender = \"Female\" #@param [\"Male\", \"Female\"] {type: \"raw\"}\n",
        "birthdate = \"2003-04-02\" #@param {type: \"date\"}\n",
        "\n",
        "print(\"Gender:\", gender)\n",
        "print(\"Birthdate:\", birthdate)"
      ],
      "metadata": {
        "colab": {
          "base_uri": "https://localhost:8080/"
        },
        "id": "VXohHXJYviDr",
        "outputId": "82d36084-11e3-4b99-adb8-8308903cc524"
      },
      "execution_count": 4,
      "outputs": [
        {
          "output_type": "stream",
          "name": "stdout",
          "text": [
            "Gender: Female\n",
            "Birthdate: 2003-04-02\n"
          ]
        }
      ]
    }
  ]
}