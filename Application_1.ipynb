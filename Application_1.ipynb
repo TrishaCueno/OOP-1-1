{
  "nbformat": 4,
  "nbformat_minor": 0,
  "metadata": {
    "colab": {
      "name": "Application 1.ipynb",
      "provenance": [],
      "authorship_tag": "ABX9TyPoV/bj1OnOz2HqzujnGqv3",
      "include_colab_link": true
    },
    "kernelspec": {
      "name": "python3",
      "display_name": "Python 3"
    },
    "language_info": {
      "name": "python"
    }
  },
  "cells": [
    {
      "cell_type": "markdown",
      "metadata": {
        "id": "view-in-github",
        "colab_type": "text"
      },
      "source": [
        "<a href=\"https://colab.research.google.com/github/TrishaCueno/OOP-1-1/blob/main/Application_1.ipynb\" target=\"_parent\"><img src=\"https://colab.research.google.com/assets/colab-badge.svg\" alt=\"Open In Colab\"/></a>"
      ]
    },
    {
      "cell_type": "markdown",
      "source": [
        "###Application 1\n"
      ],
      "metadata": {
        "id": "VAtIkYEBDkJF"
      }
    },
    {
      "cell_type": "markdown",
      "source": [
        "1. Create a Python program that displays the name of three students (Student 1, Student 2, and Student 3) and their term grades.\n",
        "2.  Create a class name Person and attributes - std1,std2,std3,pre,mid,fin. \n",
        "3. Compute the average of each term grade using Grade() method.\n",
        "4. Information about student s grades must be hidden from others."
      ],
      "metadata": {
        "id": "dDObh9bWDyuf"
      }
    },
    {
      "cell_type": "code",
      "source": [
        "class Person:\n",
        "  def __init__(self,std,prelim,mid,fin):\n",
        "    self.std = std\n",
        "    self.prelim = prelim\n",
        "    self.mid = mid\n",
        "    self.fin = fin\n",
        "\n",
        "  def term_grades(self):\n",
        "    print(f\"{self.std}\")\n",
        "    print(f\" Prelims : {self.prelim}\")\n",
        "    print(f\" Midterms : {self.mid}\")\n",
        "    print(f\" Finals : {self.fin}\")\n",
        "\n",
        "class Grades(Person):\n",
        "  pass\n",
        "print(\"Student term grades: \\n\")\n",
        "  \n",
        "std1 = Grades(\"Student 1\", 95, 100, 100)\n",
        "std1.term_grades()\n",
        "std2 = Grades(\"Student 2\", 90, 95, 100)\n",
        "std2.term_grades()\n",
        "std3 = Grades(\"Student 3\", 95, 100, 90)\n",
        "std3.term_grades()\n",
        "\n",
        "print(\"\\nAverage term grades:\")\n",
        "import statistics\n",
        "std1 = (95, 100, 100)\n",
        "average = statistics.mean(std1)\n",
        "print(\"Student 1 average term grade is \" + str(round(average, 2)))\n",
        "\n",
        "std2 = (90, 95, 100)\n",
        "average = statistics.mean(std2)\n",
        "print(\"Student 2 average term grade is \" + str(round(average, 2)))\n",
        "\n",
        "std3 = (95, 100, 90)\n",
        "average = statistics.mean(std3)\n",
        "print(\"Student 31 average term grade is \" + str(round(average, 2)))"
      ],
      "metadata": {
        "colab": {
          "base_uri": "https://localhost:8080/"
        },
        "id": "tiMUJ7UYWpIo",
        "outputId": "a4fd18ca-84aa-4a09-bfe0-7cc8dbd2ce8e"
      },
      "execution_count": 23,
      "outputs": [
        {
          "output_type": "stream",
          "name": "stdout",
          "text": [
            "Student term grades: \n",
            "\n",
            "Student 1\n",
            " Prelims : 95\n",
            " Midterms : 100\n",
            " Finals : 100\n",
            "Student 2\n",
            " Prelims : 90\n",
            " Midterms : 95\n",
            " Finals : 100\n",
            "Student 3\n",
            " Prelims : 95\n",
            " Midterms : 100\n",
            " Finals : 90\n",
            "\n",
            "Average term grades:\n",
            "Student 1 average term grade is 98.33\n",
            "Student 2 average term grade is 95\n",
            "Student 31 average term grade is 95\n"
          ]
        }
      ]
    }
  ]
}